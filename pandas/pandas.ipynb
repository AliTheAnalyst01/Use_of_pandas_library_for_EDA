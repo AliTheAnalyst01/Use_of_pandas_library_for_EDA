{
 "cells": [
  {
   "attachments": {},
   "cell_type": "markdown",
   "metadata": {},
   "source": [
    "# pandas practice\n",
    "this note book  explain"
   ]
  },
  {
   "attachments": {},
   "cell_type": "markdown",
   "metadata": {},
   "source": [
    " Import libraries "
   ]
  },
  {
   "cell_type": "code",
   "execution_count": 1,
   "metadata": {},
   "outputs": [],
   "source": [
    "import pandas as pd\n",
    "import numpy as np"
   ]
  },
  {
   "cell_type": "code",
   "execution_count": 3,
   "metadata": {},
   "outputs": [
    {
     "data": {
      "text/plain": [
       "0    1.0\n",
       "1    2.0\n",
       "2    3.0\n",
       "3    NaN\n",
       "4    4.0\n",
       "5    5.0\n",
       "6    6.0\n",
       "dtype: float64"
      ]
     },
     "execution_count": 3,
     "metadata": {},
     "output_type": "execute_result"
    }
   ],
   "source": [
    "# object creation\n",
    "s = pd.Series([1,2,3,np.nan,4,5,6])\n",
    "s"
   ]
  },
  {
   "cell_type": "code",
   "execution_count": 6,
   "metadata": {},
   "outputs": [
    {
     "data": {
      "text/plain": [
       "DatetimeIndex(['2023-01-01', '2023-01-02', '2023-01-03', '2023-01-04',\n",
       "               '2023-01-05', '2023-01-06', '2023-01-07', '2023-01-08',\n",
       "               '2023-01-09', '2023-01-10'],\n",
       "              dtype='datetime64[ns]', freq='D')"
      ]
     },
     "execution_count": 6,
     "metadata": {},
     "output_type": "execute_result"
    }
   ],
   "source": [
    "dates = pd.date_range('20230101',periods=10)\n",
    "dates"
   ]
  },
  {
   "cell_type": "code",
   "execution_count": 7,
   "metadata": {},
   "outputs": [
    {
     "data": {
      "text/html": [
       "<div>\n",
       "<style scoped>\n",
       "    .dataframe tbody tr th:only-of-type {\n",
       "        vertical-align: middle;\n",
       "    }\n",
       "\n",
       "    .dataframe tbody tr th {\n",
       "        vertical-align: top;\n",
       "    }\n",
       "\n",
       "    .dataframe thead th {\n",
       "        text-align: right;\n",
       "    }\n",
       "</style>\n",
       "<table border=\"1\" class=\"dataframe\">\n",
       "  <thead>\n",
       "    <tr style=\"text-align: right;\">\n",
       "      <th></th>\n",
       "      <th>A</th>\n",
       "      <th>B</th>\n",
       "      <th>C</th>\n",
       "      <th>D</th>\n",
       "    </tr>\n",
       "  </thead>\n",
       "  <tbody>\n",
       "    <tr>\n",
       "      <th>2023-01-01</th>\n",
       "      <td>0.624621</td>\n",
       "      <td>0.771971</td>\n",
       "      <td>0.289985</td>\n",
       "      <td>0.581210</td>\n",
       "    </tr>\n",
       "    <tr>\n",
       "      <th>2023-01-02</th>\n",
       "      <td>0.073680</td>\n",
       "      <td>0.436485</td>\n",
       "      <td>0.600526</td>\n",
       "      <td>0.837488</td>\n",
       "    </tr>\n",
       "    <tr>\n",
       "      <th>2023-01-03</th>\n",
       "      <td>0.718648</td>\n",
       "      <td>0.431519</td>\n",
       "      <td>0.225555</td>\n",
       "      <td>0.376571</td>\n",
       "    </tr>\n",
       "    <tr>\n",
       "      <th>2023-01-04</th>\n",
       "      <td>0.135469</td>\n",
       "      <td>0.810929</td>\n",
       "      <td>0.483735</td>\n",
       "      <td>0.240044</td>\n",
       "    </tr>\n",
       "    <tr>\n",
       "      <th>2023-01-05</th>\n",
       "      <td>0.989490</td>\n",
       "      <td>0.177434</td>\n",
       "      <td>0.765761</td>\n",
       "      <td>0.160408</td>\n",
       "    </tr>\n",
       "    <tr>\n",
       "      <th>2023-01-06</th>\n",
       "      <td>0.765186</td>\n",
       "      <td>0.776883</td>\n",
       "      <td>0.918140</td>\n",
       "      <td>0.023625</td>\n",
       "    </tr>\n",
       "    <tr>\n",
       "      <th>2023-01-07</th>\n",
       "      <td>0.879282</td>\n",
       "      <td>0.879743</td>\n",
       "      <td>0.896476</td>\n",
       "      <td>0.461929</td>\n",
       "    </tr>\n",
       "    <tr>\n",
       "      <th>2023-01-08</th>\n",
       "      <td>0.295179</td>\n",
       "      <td>0.983000</td>\n",
       "      <td>0.151561</td>\n",
       "      <td>0.373097</td>\n",
       "    </tr>\n",
       "    <tr>\n",
       "      <th>2023-01-09</th>\n",
       "      <td>0.246402</td>\n",
       "      <td>0.082834</td>\n",
       "      <td>0.930914</td>\n",
       "      <td>0.724964</td>\n",
       "    </tr>\n",
       "    <tr>\n",
       "      <th>2023-01-10</th>\n",
       "      <td>0.614487</td>\n",
       "      <td>0.339148</td>\n",
       "      <td>0.332553</td>\n",
       "      <td>0.775664</td>\n",
       "    </tr>\n",
       "  </tbody>\n",
       "</table>\n",
       "</div>"
      ],
      "text/plain": [
       "                   A         B         C         D\n",
       "2023-01-01  0.624621  0.771971  0.289985  0.581210\n",
       "2023-01-02  0.073680  0.436485  0.600526  0.837488\n",
       "2023-01-03  0.718648  0.431519  0.225555  0.376571\n",
       "2023-01-04  0.135469  0.810929  0.483735  0.240044\n",
       "2023-01-05  0.989490  0.177434  0.765761  0.160408\n",
       "2023-01-06  0.765186  0.776883  0.918140  0.023625\n",
       "2023-01-07  0.879282  0.879743  0.896476  0.461929\n",
       "2023-01-08  0.295179  0.983000  0.151561  0.373097\n",
       "2023-01-09  0.246402  0.082834  0.930914  0.724964\n",
       "2023-01-10  0.614487  0.339148  0.332553  0.775664"
      ]
     },
     "execution_count": 7,
     "metadata": {},
     "output_type": "execute_result"
    }
   ],
   "source": [
    "df = pd.DataFrame(np.random.rand(10,4),index=dates,columns=list('ABCD'))\n",
    "df"
   ]
  },
  {
   "cell_type": "code",
   "execution_count": 12,
   "metadata": {},
   "outputs": [
    {
     "data": {
      "text/html": [
       "<div>\n",
       "<style scoped>\n",
       "    .dataframe tbody tr th:only-of-type {\n",
       "        vertical-align: middle;\n",
       "    }\n",
       "\n",
       "    .dataframe tbody tr th {\n",
       "        vertical-align: top;\n",
       "    }\n",
       "\n",
       "    .dataframe thead th {\n",
       "        text-align: right;\n",
       "    }\n",
       "</style>\n",
       "<table border=\"1\" class=\"dataframe\">\n",
       "  <thead>\n",
       "    <tr style=\"text-align: right;\">\n",
       "      <th></th>\n",
       "      <th>A</th>\n",
       "      <th>B</th>\n",
       "      <th>C</th>\n",
       "      <th>D</th>\n",
       "      <th>E</th>\n",
       "      <th>F</th>\n",
       "    </tr>\n",
       "  </thead>\n",
       "  <tbody>\n",
       "    <tr>\n",
       "      <th>0</th>\n",
       "      <td>1.0</td>\n",
       "      <td>2023-03-18</td>\n",
       "      <td>1.0</td>\n",
       "      <td>3</td>\n",
       "      <td>girl</td>\n",
       "      <td>females</td>\n",
       "    </tr>\n",
       "    <tr>\n",
       "      <th>1</th>\n",
       "      <td>1.0</td>\n",
       "      <td>2023-03-19</td>\n",
       "      <td>1.0</td>\n",
       "      <td>3</td>\n",
       "      <td>women</td>\n",
       "      <td>females</td>\n",
       "    </tr>\n",
       "    <tr>\n",
       "      <th>2</th>\n",
       "      <td>1.0</td>\n",
       "      <td>2023-03-20</td>\n",
       "      <td>1.0</td>\n",
       "      <td>3</td>\n",
       "      <td>girl</td>\n",
       "      <td>females</td>\n",
       "    </tr>\n",
       "    <tr>\n",
       "      <th>3</th>\n",
       "      <td>1.0</td>\n",
       "      <td>2023-03-21</td>\n",
       "      <td>1.0</td>\n",
       "      <td>3</td>\n",
       "      <td>women</td>\n",
       "      <td>females</td>\n",
       "    </tr>\n",
       "  </tbody>\n",
       "</table>\n",
       "</div>"
      ],
      "text/plain": [
       "     A          B    C  D      E        F\n",
       "0  1.0 2023-03-18  1.0  3   girl  females\n",
       "1  1.0 2023-03-19  1.0  3  women  females\n",
       "2  1.0 2023-03-20  1.0  3   girl  females\n",
       "3  1.0 2023-03-21  1.0  3  women  females"
      ]
     },
     "execution_count": 12,
     "metadata": {},
     "output_type": "execute_result"
    }
   ],
   "source": [
    "df2 = pd.DataFrame(\n",
    "   {\n",
    "    'A':1.0,\n",
    "    'B':pd.date_range('20230318',periods = 4),\n",
    "    'C':pd.Series(1,index=list(range(4)),dtype='float'),\n",
    "    'D':np.array([3]*4,dtype='int'),\n",
    "    'E':pd.Categorical(['girl','women','girl','women']),\n",
    "    'F':'females',\n",
    "\n",
    "   } \n",
    ")\n",
    "df2"
   ]
  },
  {
   "cell_type": "code",
   "execution_count": 13,
   "metadata": {},
   "outputs": [
    {
     "data": {
      "text/plain": [
       "A           float64\n",
       "B    datetime64[ns]\n",
       "C           float64\n",
       "D             int32\n",
       "E          category\n",
       "F            object\n",
       "dtype: object"
      ]
     },
     "execution_count": 13,
     "metadata": {},
     "output_type": "execute_result"
    }
   ],
   "source": [
    "df2.dtypes"
   ]
  },
  {
   "cell_type": "code",
   "execution_count": 14,
   "metadata": {},
   "outputs": [
    {
     "data": {
      "text/plain": [
       "<bound method DataFrame.to_numpy of                    A         B         C         D\n",
       "2023-01-01  0.624621  0.771971  0.289985  0.581210\n",
       "2023-01-02  0.073680  0.436485  0.600526  0.837488\n",
       "2023-01-03  0.718648  0.431519  0.225555  0.376571\n",
       "2023-01-04  0.135469  0.810929  0.483735  0.240044\n",
       "2023-01-05  0.989490  0.177434  0.765761  0.160408\n",
       "2023-01-06  0.765186  0.776883  0.918140  0.023625\n",
       "2023-01-07  0.879282  0.879743  0.896476  0.461929\n",
       "2023-01-08  0.295179  0.983000  0.151561  0.373097\n",
       "2023-01-09  0.246402  0.082834  0.930914  0.724964\n",
       "2023-01-10  0.614487  0.339148  0.332553  0.775664>"
      ]
     },
     "execution_count": 14,
     "metadata": {},
     "output_type": "execute_result"
    }
   ],
   "source": [
    "df.to_numpy"
   ]
  },
  {
   "cell_type": "code",
   "execution_count": 16,
   "metadata": {},
   "outputs": [
    {
     "data": {
      "text/html": [
       "<div>\n",
       "<style scoped>\n",
       "    .dataframe tbody tr th:only-of-type {\n",
       "        vertical-align: middle;\n",
       "    }\n",
       "\n",
       "    .dataframe tbody tr th {\n",
       "        vertical-align: top;\n",
       "    }\n",
       "\n",
       "    .dataframe thead th {\n",
       "        text-align: right;\n",
       "    }\n",
       "</style>\n",
       "<table border=\"1\" class=\"dataframe\">\n",
       "  <thead>\n",
       "    <tr style=\"text-align: right;\">\n",
       "      <th></th>\n",
       "      <th>A</th>\n",
       "      <th>B</th>\n",
       "      <th>C</th>\n",
       "      <th>D</th>\n",
       "    </tr>\n",
       "  </thead>\n",
       "  <tbody>\n",
       "    <tr>\n",
       "      <th>count</th>\n",
       "      <td>10.000000</td>\n",
       "      <td>10.000000</td>\n",
       "      <td>10.000000</td>\n",
       "      <td>10.000000</td>\n",
       "    </tr>\n",
       "    <tr>\n",
       "      <th>mean</th>\n",
       "      <td>0.534244</td>\n",
       "      <td>0.568995</td>\n",
       "      <td>0.559521</td>\n",
       "      <td>0.455500</td>\n",
       "    </tr>\n",
       "    <tr>\n",
       "      <th>std</th>\n",
       "      <td>0.323074</td>\n",
       "      <td>0.314444</td>\n",
       "      <td>0.304077</td>\n",
       "      <td>0.272827</td>\n",
       "    </tr>\n",
       "    <tr>\n",
       "      <th>min</th>\n",
       "      <td>0.073680</td>\n",
       "      <td>0.082834</td>\n",
       "      <td>0.151561</td>\n",
       "      <td>0.023625</td>\n",
       "    </tr>\n",
       "    <tr>\n",
       "      <th>25%</th>\n",
       "      <td>0.258597</td>\n",
       "      <td>0.362241</td>\n",
       "      <td>0.300627</td>\n",
       "      <td>0.273307</td>\n",
       "    </tr>\n",
       "    <tr>\n",
       "      <th>50%</th>\n",
       "      <td>0.619554</td>\n",
       "      <td>0.604228</td>\n",
       "      <td>0.542130</td>\n",
       "      <td>0.419250</td>\n",
       "    </tr>\n",
       "    <tr>\n",
       "      <th>75%</th>\n",
       "      <td>0.753551</td>\n",
       "      <td>0.802418</td>\n",
       "      <td>0.863797</td>\n",
       "      <td>0.689026</td>\n",
       "    </tr>\n",
       "    <tr>\n",
       "      <th>max</th>\n",
       "      <td>0.989490</td>\n",
       "      <td>0.983000</td>\n",
       "      <td>0.930914</td>\n",
       "      <td>0.837488</td>\n",
       "    </tr>\n",
       "  </tbody>\n",
       "</table>\n",
       "</div>"
      ],
      "text/plain": [
       "               A          B          C          D\n",
       "count  10.000000  10.000000  10.000000  10.000000\n",
       "mean    0.534244   0.568995   0.559521   0.455500\n",
       "std     0.323074   0.314444   0.304077   0.272827\n",
       "min     0.073680   0.082834   0.151561   0.023625\n",
       "25%     0.258597   0.362241   0.300627   0.273307\n",
       "50%     0.619554   0.604228   0.542130   0.419250\n",
       "75%     0.753551   0.802418   0.863797   0.689026\n",
       "max     0.989490   0.983000   0.930914   0.837488"
      ]
     },
     "execution_count": 16,
     "metadata": {},
     "output_type": "execute_result"
    }
   ],
   "source": [
    "df.describe()"
   ]
  },
  {
   "cell_type": "code",
   "execution_count": 17,
   "metadata": {},
   "outputs": [
    {
     "data": {
      "text/html": [
       "<div>\n",
       "<style scoped>\n",
       "    .dataframe tbody tr th:only-of-type {\n",
       "        vertical-align: middle;\n",
       "    }\n",
       "\n",
       "    .dataframe tbody tr th {\n",
       "        vertical-align: top;\n",
       "    }\n",
       "\n",
       "    .dataframe thead th {\n",
       "        text-align: right;\n",
       "    }\n",
       "</style>\n",
       "<table border=\"1\" class=\"dataframe\">\n",
       "  <thead>\n",
       "    <tr style=\"text-align: right;\">\n",
       "      <th></th>\n",
       "      <th>2023-01-01</th>\n",
       "      <th>2023-01-02</th>\n",
       "      <th>2023-01-03</th>\n",
       "      <th>2023-01-04</th>\n",
       "      <th>2023-01-05</th>\n",
       "      <th>2023-01-06</th>\n",
       "      <th>2023-01-07</th>\n",
       "      <th>2023-01-08</th>\n",
       "      <th>2023-01-09</th>\n",
       "      <th>2023-01-10</th>\n",
       "    </tr>\n",
       "  </thead>\n",
       "  <tbody>\n",
       "    <tr>\n",
       "      <th>A</th>\n",
       "      <td>0.624621</td>\n",
       "      <td>0.073680</td>\n",
       "      <td>0.718648</td>\n",
       "      <td>0.135469</td>\n",
       "      <td>0.989490</td>\n",
       "      <td>0.765186</td>\n",
       "      <td>0.879282</td>\n",
       "      <td>0.295179</td>\n",
       "      <td>0.246402</td>\n",
       "      <td>0.614487</td>\n",
       "    </tr>\n",
       "    <tr>\n",
       "      <th>B</th>\n",
       "      <td>0.771971</td>\n",
       "      <td>0.436485</td>\n",
       "      <td>0.431519</td>\n",
       "      <td>0.810929</td>\n",
       "      <td>0.177434</td>\n",
       "      <td>0.776883</td>\n",
       "      <td>0.879743</td>\n",
       "      <td>0.983000</td>\n",
       "      <td>0.082834</td>\n",
       "      <td>0.339148</td>\n",
       "    </tr>\n",
       "    <tr>\n",
       "      <th>C</th>\n",
       "      <td>0.289985</td>\n",
       "      <td>0.600526</td>\n",
       "      <td>0.225555</td>\n",
       "      <td>0.483735</td>\n",
       "      <td>0.765761</td>\n",
       "      <td>0.918140</td>\n",
       "      <td>0.896476</td>\n",
       "      <td>0.151561</td>\n",
       "      <td>0.930914</td>\n",
       "      <td>0.332553</td>\n",
       "    </tr>\n",
       "    <tr>\n",
       "      <th>D</th>\n",
       "      <td>0.581210</td>\n",
       "      <td>0.837488</td>\n",
       "      <td>0.376571</td>\n",
       "      <td>0.240044</td>\n",
       "      <td>0.160408</td>\n",
       "      <td>0.023625</td>\n",
       "      <td>0.461929</td>\n",
       "      <td>0.373097</td>\n",
       "      <td>0.724964</td>\n",
       "      <td>0.775664</td>\n",
       "    </tr>\n",
       "  </tbody>\n",
       "</table>\n",
       "</div>"
      ],
      "text/plain": [
       "   2023-01-01  2023-01-02  2023-01-03  2023-01-04  2023-01-05  2023-01-06  \\\n",
       "A    0.624621    0.073680    0.718648    0.135469    0.989490    0.765186   \n",
       "B    0.771971    0.436485    0.431519    0.810929    0.177434    0.776883   \n",
       "C    0.289985    0.600526    0.225555    0.483735    0.765761    0.918140   \n",
       "D    0.581210    0.837488    0.376571    0.240044    0.160408    0.023625   \n",
       "\n",
       "   2023-01-07  2023-01-08  2023-01-09  2023-01-10  \n",
       "A    0.879282    0.295179    0.246402    0.614487  \n",
       "B    0.879743    0.983000    0.082834    0.339148  \n",
       "C    0.896476    0.151561    0.930914    0.332553  \n",
       "D    0.461929    0.373097    0.724964    0.775664  "
      ]
     },
     "execution_count": 17,
     "metadata": {},
     "output_type": "execute_result"
    }
   ],
   "source": [
    "# to transpose\n",
    "df.T"
   ]
  },
  {
   "cell_type": "code",
   "execution_count": 18,
   "metadata": {},
   "outputs": [
    {
     "data": {
      "text/plain": [
       "2023-01-01    0.624621\n",
       "2023-01-02    0.073680\n",
       "2023-01-03    0.718648\n",
       "2023-01-04    0.135469\n",
       "2023-01-05    0.989490\n",
       "2023-01-06    0.765186\n",
       "2023-01-07    0.879282\n",
       "2023-01-08    0.295179\n",
       "2023-01-09    0.246402\n",
       "2023-01-10    0.614487\n",
       "Freq: D, Name: A, dtype: float64"
      ]
     },
     "execution_count": 18,
     "metadata": {},
     "output_type": "execute_result"
    }
   ],
   "source": [
    "df['A']"
   ]
  },
  {
   "cell_type": "code",
   "execution_count": null,
   "metadata": {},
   "outputs": [],
   "source": []
  }
 ],
 "metadata": {
  "kernelspec": {
   "display_name": "Python 3",
   "language": "python",
   "name": "python3"
  },
  "language_info": {
   "codemirror_mode": {
    "name": "ipython",
    "version": 3
   },
   "file_extension": ".py",
   "mimetype": "text/x-python",
   "name": "python",
   "nbconvert_exporter": "python",
   "pygments_lexer": "ipython3",
   "version": "3.10.4"
  },
  "orig_nbformat": 4
 },
 "nbformat": 4,
 "nbformat_minor": 2
}
